{
 "cells": [
  {
   "cell_type": "markdown",
   "metadata": {},
   "source": [
    "# Practica 9"
   ]
  },
  {
   "cell_type": "code",
   "execution_count": 2,
   "metadata": {},
   "outputs": [
    {
     "name": "stdout",
     "output_type": "stream",
     "text": [
      "Collecting package metadata (current_repodata.json): ...working... done\n",
      "Solving environment: ...working... done\n",
      "\n",
      "## Package Plan ##\n",
      "\n",
      "  environment location: C:\\ProgramData\\Anaconda3\n",
      "\n",
      "  added / updated specs:\n",
      "    - mlxtend\n",
      "\n",
      "\n",
      "The following packages will be downloaded:\n",
      "\n",
      "    package                    |            build\n",
      "    ---------------------------|-----------------\n",
      "    conda-4.8.3                |   py37hc8dfbb8_1         3.1 MB  conda-forge\n",
      "    matplotlib-base-3.2.1      |   py37h911224e_0         7.1 MB  conda-forge\n",
      "    mlxtend-0.17.2             |             py_0         1.2 MB  conda-forge\n",
      "    python_abi-3.7             |          1_cp37m           4 KB  conda-forge\n",
      "    ------------------------------------------------------------\n",
      "                                           Total:        11.4 MB\n",
      "\n",
      "The following NEW packages will be INSTALLED:\n",
      "\n",
      "  matplotlib-base    conda-forge/win-64::matplotlib-base-3.2.1-py37h911224e_0\n",
      "  mlxtend            conda-forge/noarch::mlxtend-0.17.2-py_0\n",
      "  python_abi         conda-forge/win-64::python_abi-3.7-1_cp37m\n",
      "\n",
      "The following packages will be UPDATED:\n",
      "\n",
      "  conda                       pkgs/main::conda-4.8.2-py37_0 --> conda-forge::conda-4.8.3-py37hc8dfbb8_1\n",
      "\n",
      "\n",
      "\n",
      "Downloading and Extracting Packages\n",
      "\n",
      "conda-4.8.3          | 3.1 MB    |            |   0% \n",
      "conda-4.8.3          | 3.1 MB    |            |   1% \n",
      "conda-4.8.3          | 3.1 MB    | 6          |   7% \n",
      "conda-4.8.3          | 3.1 MB    | #1         |  12% \n",
      "conda-4.8.3          | 3.1 MB    | #4         |  14% \n",
      "conda-4.8.3          | 3.1 MB    | ##         |  21% \n",
      "conda-4.8.3          | 3.1 MB    | ##4        |  24% \n",
      "conda-4.8.3          | 3.1 MB    | ###1       |  32% \n",
      "conda-4.8.3          | 3.1 MB    | ###6       |  36% \n",
      "conda-4.8.3          | 3.1 MB    | ####3      |  43% \n",
      "conda-4.8.3          | 3.1 MB    | #####1     |  52% \n",
      "conda-4.8.3          | 3.1 MB    | #####7     |  58% \n",
      "conda-4.8.3          | 3.1 MB    | ######7    |  67% \n",
      "conda-4.8.3          | 3.1 MB    | #######3   |  73% \n",
      "conda-4.8.3          | 3.1 MB    | #######9   |  79% \n",
      "conda-4.8.3          | 3.1 MB    | ########5  |  85% \n",
      "conda-4.8.3          | 3.1 MB    | #########4 |  95% \n",
      "conda-4.8.3          | 3.1 MB    | ########## | 100% \n",
      "\n",
      "python_abi-3.7       | 4 KB      |            |   0% \n",
      "python_abi-3.7       | 4 KB      | ########## | 100% \n",
      "\n",
      "matplotlib-base-3.2. | 7.1 MB    |            |   0% \n",
      "matplotlib-base-3.2. | 7.1 MB    | 1          |   1% \n",
      "matplotlib-base-3.2. | 7.1 MB    | 3          |   3% \n",
      "matplotlib-base-3.2. | 7.1 MB    | 5          |   5% \n",
      "matplotlib-base-3.2. | 7.1 MB    | 7          |   8% \n",
      "matplotlib-base-3.2. | 7.1 MB    | #          |  10% \n",
      "matplotlib-base-3.2. | 7.1 MB    | #2         |  12% \n",
      "matplotlib-base-3.2. | 7.1 MB    | #4         |  14% \n",
      "matplotlib-base-3.2. | 7.1 MB    | #6         |  16% \n",
      "matplotlib-base-3.2. | 7.1 MB    | #9         |  19% \n",
      "matplotlib-base-3.2. | 7.1 MB    | ##1        |  21% \n",
      "matplotlib-base-3.2. | 7.1 MB    | ##3        |  24% \n",
      "matplotlib-base-3.2. | 7.1 MB    | ##6        |  26% \n",
      "matplotlib-base-3.2. | 7.1 MB    | ##8        |  28% \n",
      "matplotlib-base-3.2. | 7.1 MB    | ###        |  30% \n",
      "matplotlib-base-3.2. | 7.1 MB    | ###2       |  33% \n",
      "matplotlib-base-3.2. | 7.1 MB    | ###4       |  35% \n",
      "matplotlib-base-3.2. | 7.1 MB    | ###7       |  37% \n",
      "matplotlib-base-3.2. | 7.1 MB    | ###9       |  39% \n",
      "matplotlib-base-3.2. | 7.1 MB    | ####1      |  42% \n",
      "matplotlib-base-3.2. | 7.1 MB    | ####5      |  45% \n",
      "matplotlib-base-3.2. | 7.1 MB    | ####7      |  47% \n",
      "matplotlib-base-3.2. | 7.1 MB    | #####      |  51% \n",
      "matplotlib-base-3.2. | 7.1 MB    | #####3     |  53% \n",
      "matplotlib-base-3.2. | 7.1 MB    | #####5     |  56% \n",
      "matplotlib-base-3.2. | 7.1 MB    | #####7     |  58% \n",
      "matplotlib-base-3.2. | 7.1 MB    | #####9     |  60% \n",
      "matplotlib-base-3.2. | 7.1 MB    | ######2    |  62% \n",
      "matplotlib-base-3.2. | 7.1 MB    | ######4    |  65% \n",
      "matplotlib-base-3.2. | 7.1 MB    | ######6    |  67% \n",
      "matplotlib-base-3.2. | 7.1 MB    | ######8    |  69% \n",
      "matplotlib-base-3.2. | 7.1 MB    | #######1   |  71% \n",
      "matplotlib-base-3.2. | 7.1 MB    | #######3   |  73% \n",
      "matplotlib-base-3.2. | 7.1 MB    | #######6   |  76% \n",
      "matplotlib-base-3.2. | 7.1 MB    | #######8   |  79% \n",
      "matplotlib-base-3.2. | 7.1 MB    | ########   |  81% \n",
      "matplotlib-base-3.2. | 7.1 MB    | ########4  |  84% \n",
      "matplotlib-base-3.2. | 7.1 MB    | ########6  |  87% \n",
      "matplotlib-base-3.2. | 7.1 MB    | ########9  |  90% \n",
      "matplotlib-base-3.2. | 7.1 MB    | #########2 |  92% \n",
      "matplotlib-base-3.2. | 7.1 MB    | #########4 |  95% \n",
      "matplotlib-base-3.2. | 7.1 MB    | #########6 |  97% \n",
      "matplotlib-base-3.2. | 7.1 MB    | ########## | 100% \n",
      "\n",
      "mlxtend-0.17.2       | 1.2 MB    |            |   0% \n",
      "mlxtend-0.17.2       | 1.2 MB    | 3          |   4% \n",
      "mlxtend-0.17.2       | 1.2 MB    | #6         |  17% \n",
      "mlxtend-0.17.2       | 1.2 MB    | ##9        |  29% \n",
      "mlxtend-0.17.2       | 1.2 MB    | ####2      |  42% \n",
      "mlxtend-0.17.2       | 1.2 MB    | #####1     |  51% \n",
      "mlxtend-0.17.2       | 1.2 MB    | #######1   |  72% \n",
      "mlxtend-0.17.2       | 1.2 MB    | ########5  |  86% \n",
      "mlxtend-0.17.2       | 1.2 MB    | ########## | 100% \n",
      "Preparing transaction: ...working... done\n",
      "Verifying transaction: ...working... done\n",
      "Executing transaction: ...working... done\n",
      "\n",
      "Note: you may need to restart the kernel to use updated packages.\n"
     ]
    },
    {
     "name": "stderr",
     "output_type": "stream",
     "text": [
      "\n",
      "\n",
      "==> WARNING: A newer version of conda exists. <==\n",
      "  current version: 4.8.2\n",
      "  latest version: 4.8.3\n",
      "\n",
      "Please update conda by running\n",
      "\n",
      "    $ conda update -n base -c defaults conda\n",
      "\n",
      "\n"
     ]
    }
   ],
   "source": [
    "conda install -c conda-forge mlxtend"
   ]
  },
  {
   "cell_type": "code",
   "execution_count": 1,
   "metadata": {},
   "outputs": [],
   "source": [
    "import pandas as pd\n",
    "import numpy as np\n",
    "from mlxtend.frequent_patterns import apriori, association_rules\n",
    "import matplotlib.pyplot as plt\n",
    "import missingno as msno"
   ]
  },
  {
   "cell_type": "code",
   "execution_count": 2,
   "metadata": {},
   "outputs": [
    {
     "data": {
      "text/html": [
       "<div>\n",
       "<style scoped>\n",
       "    .dataframe tbody tr th:only-of-type {\n",
       "        vertical-align: middle;\n",
       "    }\n",
       "\n",
       "    .dataframe tbody tr th {\n",
       "        vertical-align: top;\n",
       "    }\n",
       "\n",
       "    .dataframe thead th {\n",
       "        text-align: right;\n",
       "    }\n",
       "</style>\n",
       "<table border=\"1\" class=\"dataframe\">\n",
       "  <thead>\n",
       "    <tr style=\"text-align: right;\">\n",
       "      <th></th>\n",
       "      <th>vhigh</th>\n",
       "      <th>vhigh.1</th>\n",
       "      <th>2</th>\n",
       "      <th>2.1</th>\n",
       "      <th>small</th>\n",
       "      <th>low</th>\n",
       "      <th>unacc</th>\n",
       "    </tr>\n",
       "  </thead>\n",
       "  <tbody>\n",
       "    <tr>\n",
       "      <td>0</td>\n",
       "      <td>vhigh</td>\n",
       "      <td>vhigh</td>\n",
       "      <td>2</td>\n",
       "      <td>2</td>\n",
       "      <td>small</td>\n",
       "      <td>med</td>\n",
       "      <td>unacc</td>\n",
       "    </tr>\n",
       "    <tr>\n",
       "      <td>1</td>\n",
       "      <td>vhigh</td>\n",
       "      <td>vhigh</td>\n",
       "      <td>2</td>\n",
       "      <td>2</td>\n",
       "      <td>small</td>\n",
       "      <td>high</td>\n",
       "      <td>unacc</td>\n",
       "    </tr>\n",
       "    <tr>\n",
       "      <td>2</td>\n",
       "      <td>vhigh</td>\n",
       "      <td>vhigh</td>\n",
       "      <td>2</td>\n",
       "      <td>2</td>\n",
       "      <td>med</td>\n",
       "      <td>low</td>\n",
       "      <td>unacc</td>\n",
       "    </tr>\n",
       "    <tr>\n",
       "      <td>3</td>\n",
       "      <td>vhigh</td>\n",
       "      <td>vhigh</td>\n",
       "      <td>2</td>\n",
       "      <td>2</td>\n",
       "      <td>med</td>\n",
       "      <td>med</td>\n",
       "      <td>unacc</td>\n",
       "    </tr>\n",
       "    <tr>\n",
       "      <td>4</td>\n",
       "      <td>vhigh</td>\n",
       "      <td>vhigh</td>\n",
       "      <td>2</td>\n",
       "      <td>2</td>\n",
       "      <td>med</td>\n",
       "      <td>high</td>\n",
       "      <td>unacc</td>\n",
       "    </tr>\n",
       "  </tbody>\n",
       "</table>\n",
       "</div>"
      ],
      "text/plain": [
       "   vhigh vhigh.1  2 2.1  small   low  unacc\n",
       "0  vhigh   vhigh  2   2  small   med  unacc\n",
       "1  vhigh   vhigh  2   2  small  high  unacc\n",
       "2  vhigh   vhigh  2   2    med   low  unacc\n",
       "3  vhigh   vhigh  2   2    med   med  unacc\n",
       "4  vhigh   vhigh  2   2    med  high  unacc"
      ]
     },
     "execution_count": 2,
     "metadata": {},
     "output_type": "execute_result"
    }
   ],
   "source": [
    "path='car.data'\n",
    "df=pd.read_csv(path)\n",
    "df.head()"
   ]
  },
  {
   "cell_type": "code",
   "execution_count": 4,
   "metadata": {},
   "outputs": [
    {
     "data": {
      "text/plain": [
       "<matplotlib.axes._subplots.AxesSubplot at 0xb76b58c7c8>"
      ]
     },
     "execution_count": 4,
     "metadata": {},
     "output_type": "execute_result"
    },
    {
     "data": {
      "image/png": "[encoded data removed]",
      "text/plain": [
       "<Figure size 1800x720 with 2 Axes>"
      ]
     },
     "metadata": {
      "needs_background": "light"
     },
     "output_type": "display_data"
    }
   ],
   "source": [
    "msno.matrix(df)"
   ]
  },
  {
   "cell_type": "code",
   "execution_count": 5,
   "metadata": {},
   "outputs": [
    {
     "data": {
      "text/plain": [
       "<matplotlib.axes._subplots.AxesSubplot at 0xb76b66d988>"
      ]
     },
     "execution_count": 5,
     "metadata": {},
     "output_type": "execute_result"
    },
    {
     "data": {
      "image/png": "[encoded data removed]",
      "text/plain": [
       "<Figure size 1728x720 with 3 Axes>"
      ]
     },
     "metadata": {
      "needs_background": "light"
     },
     "output_type": "display_data"
    }
   ],
   "source": [
    "msno.bar(df)"
   ]
  },
  {
   "cell_type": "code",
   "execution_count": 9,
   "metadata": {},
   "outputs": [
    {
     "data": {
      "text/plain": [
       "array(['vhigh', 'high', 'med', 'low'], dtype=object)"
      ]
     },
     "execution_count": 9,
     "metadata": {},
     "output_type": "execute_result"
    }
   ],
   "source": [
    "items = (df['vhigh'].unique())\n",
    "items"
   ]
  },
  {
   "cell_type": "code",
   "execution_count": 10,
   "metadata": {},
   "outputs": [],
   "source": [
    "encoded_vals = []\n",
    "\n",
    "for index, row in df.iterrows():\n",
    "    labels = {}\n",
    "    uncommons = list(set(items) - set(row))\n",
    "    commons = list(set(items).intersection(row))\n",
    "    for uc in uncommons:\n",
    "        labels[uc] = 0\n",
    "    for com in commons:\n",
    "        labels[com] = 1\n",
    "    encoded_vals.append(labels)"
   ]
  },
  {
   "cell_type": "code",
   "execution_count": 11,
   "metadata": {},
   "outputs": [
    {
     "data": {
      "text/html": [
       "<div>\n",
       "<style scoped>\n",
       "    .dataframe tbody tr th:only-of-type {\n",
       "        vertical-align: middle;\n",
       "    }\n",
       "\n",
       "    .dataframe tbody tr th {\n",
       "        vertical-align: top;\n",
       "    }\n",
       "\n",
       "    .dataframe thead th {\n",
       "        text-align: right;\n",
       "    }\n",
       "</style>\n",
       "<table border=\"1\" class=\"dataframe\">\n",
       "  <thead>\n",
       "    <tr style=\"text-align: right;\">\n",
       "      <th></th>\n",
       "      <th>low</th>\n",
       "      <th>high</th>\n",
       "      <th>vhigh</th>\n",
       "      <th>med</th>\n",
       "    </tr>\n",
       "  </thead>\n",
       "  <tbody>\n",
       "    <tr>\n",
       "      <td>0</td>\n",
       "      <td>0</td>\n",
       "      <td>0</td>\n",
       "      <td>1</td>\n",
       "      <td>1</td>\n",
       "    </tr>\n",
       "    <tr>\n",
       "      <td>1</td>\n",
       "      <td>0</td>\n",
       "      <td>1</td>\n",
       "      <td>1</td>\n",
       "      <td>0</td>\n",
       "    </tr>\n",
       "    <tr>\n",
       "      <td>2</td>\n",
       "      <td>1</td>\n",
       "      <td>0</td>\n",
       "      <td>1</td>\n",
       "      <td>1</td>\n",
       "    </tr>\n",
       "    <tr>\n",
       "      <td>3</td>\n",
       "      <td>0</td>\n",
       "      <td>0</td>\n",
       "      <td>1</td>\n",
       "      <td>1</td>\n",
       "    </tr>\n",
       "    <tr>\n",
       "      <td>4</td>\n",
       "      <td>0</td>\n",
       "      <td>1</td>\n",
       "      <td>1</td>\n",
       "      <td>1</td>\n",
       "    </tr>\n",
       "  </tbody>\n",
       "</table>\n",
       "</div>"
      ],
      "text/plain": [
       "   low  high  vhigh  med\n",
       "0    0     0      1    1\n",
       "1    0     1      1    0\n",
       "2    1     0      1    1\n",
       "3    0     0      1    1\n",
       "4    0     1      1    1"
      ]
     },
     "execution_count": 11,
     "metadata": {},
     "output_type": "execute_result"
    }
   ],
   "source": [
    "ohe_df = pd.DataFrame(encoded_vals)\n",
    "ohe_df.head()"
   ]
  },
  {
   "cell_type": "markdown",
   "metadata": {},
   "source": [
    "# Apriori"
   ]
  },
  {
   "cell_type": "code",
   "execution_count": 12,
   "metadata": {},
   "outputs": [
    {
     "name": "stdout",
     "output_type": "stream",
     "text": [
      "Processing 12 combinations | Sampling itemset size 3\n"
     ]
    },
    {
     "data": {
      "text/html": [
       "<div>\n",
       "<style scoped>\n",
       "    .dataframe tbody tr th:only-of-type {\n",
       "        vertical-align: middle;\n",
       "    }\n",
       "\n",
       "    .dataframe tbody tr th {\n",
       "        vertical-align: top;\n",
       "    }\n",
       "\n",
       "    .dataframe thead th {\n",
       "        text-align: right;\n",
       "    }\n",
       "</style>\n",
       "<table border=\"1\" class=\"dataframe\">\n",
       "  <thead>\n",
       "    <tr style=\"text-align: right;\">\n",
       "      <th></th>\n",
       "      <th>support</th>\n",
       "      <th>itemsets</th>\n",
       "    </tr>\n",
       "  </thead>\n",
       "  <tbody>\n",
       "    <tr>\n",
       "      <td>0</td>\n",
       "      <td>0.624783</td>\n",
       "      <td>(low)</td>\n",
       "    </tr>\n",
       "    <tr>\n",
       "      <td>1</td>\n",
       "      <td>0.625362</td>\n",
       "      <td>(high)</td>\n",
       "    </tr>\n",
       "    <tr>\n",
       "      <td>2</td>\n",
       "      <td>0.437174</td>\n",
       "      <td>(vhigh)</td>\n",
       "    </tr>\n",
       "    <tr>\n",
       "      <td>3</td>\n",
       "      <td>0.750434</td>\n",
       "      <td>(med)</td>\n",
       "    </tr>\n",
       "    <tr>\n",
       "      <td>4</td>\n",
       "      <td>0.333526</td>\n",
       "      <td>(low, high)</td>\n",
       "    </tr>\n",
       "  </tbody>\n",
       "</table>\n",
       "</div>"
      ],
      "text/plain": [
       "    support     itemsets\n",
       "0  0.624783        (low)\n",
       "1  0.625362       (high)\n",
       "2  0.437174      (vhigh)\n",
       "3  0.750434        (med)\n",
       "4  0.333526  (low, high)"
      ]
     },
     "execution_count": 12,
     "metadata": {},
     "output_type": "execute_result"
    }
   ],
   "source": [
    "freq_items = apriori(ohe_df, min_support=0.2, use_colnames=True, verbose=1)\n",
    "freq_items.head()"
   ]
  },
  {
   "cell_type": "code",
   "execution_count": 13,
   "metadata": {},
   "outputs": [
    {
     "data": {
      "text/plain": [
       "array([frozenset({'low'}), frozenset({'high'}), frozenset({'vhigh'}),\n",
       "       frozenset({'med'}), frozenset({'low', 'high'}),\n",
       "       frozenset({'low', 'vhigh'}), frozenset({'low', 'med'}),\n",
       "       frozenset({'vhigh', 'high'}), frozenset({'med', 'high'}),\n",
       "       frozenset({'vhigh', 'med'})], dtype=object)"
      ]
     },
     "execution_count": 13,
     "metadata": {},
     "output_type": "execute_result"
    }
   ],
   "source": [
    "freq_items.itemsets.unique()\n"
   ]
  },
  {
   "cell_type": "code",
   "execution_count": 14,
   "metadata": {},
   "outputs": [
    {
     "data": {
      "text/html": [
       "<div>\n",
       "<style scoped>\n",
       "    .dataframe tbody tr th:only-of-type {\n",
       "        vertical-align: middle;\n",
       "    }\n",
       "\n",
       "    .dataframe tbody tr th {\n",
       "        vertical-align: top;\n",
       "    }\n",
       "\n",
       "    .dataframe thead th {\n",
       "        text-align: right;\n",
       "    }\n",
       "</style>\n",
       "<table border=\"1\" class=\"dataframe\">\n",
       "  <thead>\n",
       "    <tr style=\"text-align: right;\">\n",
       "      <th></th>\n",
       "      <th>antecedents</th>\n",
       "      <th>consequents</th>\n",
       "      <th>antecedent support</th>\n",
       "      <th>consequent support</th>\n",
       "      <th>support</th>\n",
       "      <th>confidence</th>\n",
       "      <th>lift</th>\n",
       "      <th>leverage</th>\n",
       "      <th>conviction</th>\n",
       "    </tr>\n",
       "  </thead>\n",
       "  <tbody>\n",
       "    <tr>\n",
       "      <td>0</td>\n",
       "      <td>(low)</td>\n",
       "      <td>(med)</td>\n",
       "      <td>0.624783</td>\n",
       "      <td>0.750434</td>\n",
       "      <td>0.430805</td>\n",
       "      <td>0.689527</td>\n",
       "      <td>0.918838</td>\n",
       "      <td>-0.038054</td>\n",
       "      <td>0.803825</td>\n",
       "    </tr>\n",
       "    <tr>\n",
       "      <td>1</td>\n",
       "      <td>(high)</td>\n",
       "      <td>(med)</td>\n",
       "      <td>0.625362</td>\n",
       "      <td>0.750434</td>\n",
       "      <td>0.430805</td>\n",
       "      <td>0.688889</td>\n",
       "      <td>0.917987</td>\n",
       "      <td>-0.038488</td>\n",
       "      <td>0.802176</td>\n",
       "    </tr>\n",
       "    <tr>\n",
       "      <td>2</td>\n",
       "      <td>(vhigh)</td>\n",
       "      <td>(med)</td>\n",
       "      <td>0.437174</td>\n",
       "      <td>0.750434</td>\n",
       "      <td>0.298784</td>\n",
       "      <td>0.683444</td>\n",
       "      <td>0.910731</td>\n",
       "      <td>-0.029287</td>\n",
       "      <td>0.788377</td>\n",
       "    </tr>\n",
       "  </tbody>\n",
       "</table>\n",
       "</div>"
      ],
      "text/plain": [
       "  antecedents consequents  antecedent support  consequent support   support  \\\n",
       "0       (low)       (med)            0.624783            0.750434  0.430805   \n",
       "1      (high)       (med)            0.625362            0.750434  0.430805   \n",
       "2     (vhigh)       (med)            0.437174            0.750434  0.298784   \n",
       "\n",
       "   confidence      lift  leverage  conviction  \n",
       "0    0.689527  0.918838 -0.038054    0.803825  \n",
       "1    0.688889  0.917987 -0.038488    0.802176  \n",
       "2    0.683444  0.910731 -0.029287    0.788377  "
      ]
     },
     "execution_count": 14,
     "metadata": {},
     "output_type": "execute_result"
    }
   ],
   "source": [
    "rules = association_rules(freq_items, min_threshold=0.6)\n",
    "rules"
   ]
  },
  {
   "cell_type": "code",
   "execution_count": null,
   "metadata": {},
   "outputs": [],
   "source": []
  }
 ],
 "metadata": {
  "kernelspec": {
   "display_name": "Python 3",
   "language": "python",
   "name": "python3"
  },
  "language_info": {
   "codemirror_mode": {
    "name": "ipython",
    "version": 3
   },
   "file_extension": ".py",
   "mimetype": "text/x-python",
   "name": "python",
   "nbconvert_exporter": "python",
   "pygments_lexer": "ipython3",
   "version": "3.7.4"
  }
 },
 "nbformat": 4,
 "nbformat_minor": 2
}
