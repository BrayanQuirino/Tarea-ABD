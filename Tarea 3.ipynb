{
 "cells": [
  {
   "cell_type": "markdown",
   "metadata": {},
   "source": [
    "# Métodos/mecanismos para la estimación de espacios de la Base de Datos."
   ]
  },
  {
   "cell_type": "markdown",
   "metadata": {},
   "source": [
    "## Volumen de Base de Datos\n",
    "\n",
    "“Cantidad de almacenamiento físico que necesita una Base de Datos para funcionar”. \n",
    "\n",
    "Los factores que inflingen para poder calcular un tamaño son los tipos datos, la cantidad de los mismos, las relaciones(indices) y de cierta manera las operaciones implicadas en la estructura de la BD.\n",
    "\n",
    "<img src=\"images/primer.jpg\"/>"
   ]
  },
  {
   "cell_type": "markdown",
   "metadata": {},
   "source": [
    "\n",
    "## Estimación del tamaño de una BD\n",
    "\n",
    "Para poder estimar un \"tamaño\" de la BD, de manera general, es necesario que se tomen en cuenta las siguientes definiciones:\n",
    "\n",
    "**Ti:** Tamaño inicial de la base “limpia”. Este valor dependerá del\n",
    "motor seleccionado, de su versión y del SO.\n",
    "\n",
    "**Td:** Tamaño de las tablas con sus datos. Cada motor de datos tiene sus propios tipos de datos.\n",
    "\n",
    "**Tidx:** Tamaño de los índices. Este tamaño se obtiene de la\n",
    "suma de todos los índices que tenga cada una de las tablas. \n",
    "\n",
    "**Tc:** Tamaño de las funciones y/o procedimientos.\n",
    "\n",
    "**Tud:** Este tamaño depende de la configuración de la base.\n",
    "\n",
    "**Tlog:** Tamaño para logs de transacciones. Este valor puede\n",
    "variar de acuerdo a la configuración de la base.\n",
    "\n",
    ">El concepto básico de un log transaccional es aquel que la define como aquella tabla de la base de datos donde todos los cambios a los datos son registrados.\n",
    "\n",
    "**CS:** Coeficiente de seguridad"
   ]
  },
  {
   "cell_type": "markdown",
   "metadata": {},
   "source": [
    "Cada sistema tiene su propia manera de calcular el tamaño de la bd, pero de manera similar esto pasaría:\n",
    "\n",
    "$$TBD = {(ti + td + tidx + tc + tlog + tud)}* cs  $$"
   ]
  },
  {
   "cell_type": "markdown",
   "metadata": {},
   "source": [
    "## Estimar el tamaño de un montón (Microsoft)\n",
    "\n",
    "Cave destacar que uno de los cálculos mas dificiles son los tamaños de las tablas. Para un sistema SQL Server o perteneciente a Microsoft ocurriría lo siguiente según su propia pagina [Documentación de SQL](https://docs.microsoft.com/es-es/sql/relational-databases/databases/estimate-the-size-of-a-heap?view=sql-server-2017).\n"
   ]
  },
  {
   "cell_type": "markdown",
   "metadata": {},
   "source": [
    "## Cálculo en IBM\n",
    "Al igual que Microsoft, IMB tiene su propio método para calcular el tamaño de la bd. Para saber más da clic [aquí](http://publib.boulder.ibm.com/wcmid/mp/v42/helpsystem/es/ra000132.html).\n",
    "\n",
    "## Cálculo en Oracle\n",
    "\n",
    "Para saber más da clic [aquí](http://andres-kbrera.blogspot.com/2015/04/volumetria-estimacion-de-tamano-de-base.html)."
   ]
  },
  {
   "cell_type": "markdown",
   "metadata": {},
   "source": [
    "## Trabajos citados\n",
    "Cabrera, A. (14 de Diciembre de 2015). Recuperado el 27 de Agosto de 2019, de (http://andres-kbrera.blogspot.com/)\n",
    "\n",
    "Estimación de tamaño de base. (2010). Recuperado el 27 de Agosto de 2019, de http://miweb.yabiru.com.ar/sisop/ADR/material/2.2_ADR_Estimacion_de_tamanio_de_una_DB_presenta.pdf\n",
    "\n",
    "Juan Pablo Amín Mainguyague. (5 de Noiembre de 2003). ESTIMACIÓN DEL VOLUMEN DE UNA BASE DE DATOS. Recuperado el 27 de Agosto de 2019, de https://users.dcc.uchile.cl/~ekrsulov/jopas/03/volumendb.ppt\n",
    "\n",
    "Microsoft. (28 de Febrero de 2017). Documentación de SQL. Recuperado el 27 de Agosto de 2019, de https://docs.microsoft.com/es-es/sql/relational-databases/databases/estimate-the-size-of-a-heap?view=sql-server-2017#see-also\n",
    "\n"
   ]
  },
  {
   "cell_type": "markdown",
   "metadata": {},
   "source": [
    "### Elaborado y diseñado por Brayan Quirino\n",
    "\n",
    "**Administración de BD**\n",
    "\n",
    "**Universidad Nacional Autónoma de México**\n",
    "---\n",
    "\n",
    "**FES-Acatlán**\n",
    "\n",
    "**27 de Agosto de 2019**"
   ]
  },
  {
   "cell_type": "code",
   "execution_count": null,
   "metadata": {},
   "outputs": [],
   "source": []
  }
 ],
 "metadata": {
  "kernelspec": {
   "display_name": "Python 3",
   "language": "python",
   "name": "python3"
  },
  "language_info": {
   "codemirror_mode": {
    "name": "ipython",
    "version": 3
   },
   "file_extension": ".py",
   "mimetype": "text/x-python",
   "name": "python",
   "nbconvert_exporter": "python",
   "pygments_lexer": "ipython3",
   "version": "3.7.3"
  }
 },
 "nbformat": 4,
 "nbformat_minor": 2
}
